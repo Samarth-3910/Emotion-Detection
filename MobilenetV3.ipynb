{
 "cells": [
  {
   "cell_type": "code",
   "execution_count": 1,
   "id": "6332065a-8c49-46af-a69c-66fd2f1ab3a2",
   "metadata": {},
   "outputs": [],
   "source": [
    "import os\n",
    "import torch\n",
    "import torch.nn as nn\n",
    "import torch.optim as optim\n",
    "from torchvision import datasets, transforms, models\n",
    "from torch.utils.data import DataLoader\n",
    "from sklearn.metrics import classification_report, accuracy_score, precision_score, recall_score, f1_score\n",
    "import numpy as np\n",
    "import time\n",
    "from PIL import Image # For loading single images\n",
    "from tqdm import tqdm # For progress bar\n",
    "import matplotlib.pyplot as plt"
   ]
  },
  {
   "cell_type": "code",
   "execution_count": 2,
   "id": "75266e05-4978-4d41-9154-905ac2327689",
   "metadata": {},
   "outputs": [
    {
     "name": "stdout",
     "output_type": "stream",
     "text": [
      "Using device: cuda\n"
     ]
    }
   ],
   "source": [
    "# --- 0. Configuration and Setup ---\n",
    "\n",
    "# Set device\n",
    "device = torch.device(\"cuda\" if torch.cuda.is_available() else \"cpu\")\n",
    "print(f\"Using device: {device}\")"
   ]
  },
  {
   "cell_type": "code",
   "execution_count": 3,
   "id": "929b4c8c-69fb-4900-bbc9-ab019b6d9525",
   "metadata": {},
   "outputs": [],
   "source": [
    "# Set random seed for reproducibility\n",
    "torch.manual_seed(42)\n",
    "if torch.cuda.is_available():\n",
    "    torch.cuda.manual_seed_all(42)\n",
    "    torch.backends.cudnn.deterministic = True\n",
    "    torch.backends.cudnn.benchmark = False # Recommended for reproducibility"
   ]
  },
  {
   "cell_type": "code",
   "execution_count": 4,
   "id": "103ebef2-ccac-4ad0-bd10-5f6a85e1c39a",
   "metadata": {},
   "outputs": [],
   "source": [
    "# Directories\n",
    "data_dir = \"images\"\n",
    "train_dir = os.path.join(data_dir, \"train\")\n",
    "test_dir = os.path.join(data_dir, \"test\")\n",
    "model_save_dir = \"models\"\n",
    "os.makedirs(model_save_dir, exist_ok=True) # Create models directory if it doesn't exist"
   ]
  },
  {
   "cell_type": "code",
   "execution_count": 5,
   "id": "20d4d7f1-ac34-46bc-a142-f2302d819093",
   "metadata": {},
   "outputs": [],
   "source": [
    "# Emotion classes (ensure this matches your folder names)\n",
    "classes = ['angry', 'disgust', 'fear', 'happy', 'neutral', 'sad', 'surprise']\n",
    "num_classes = len(classes)"
   ]
  },
  {
   "cell_type": "code",
   "execution_count": 17,
   "id": "d43f240d-9943-4a39-a975-fdb7d3061089",
   "metadata": {},
   "outputs": [],
   "source": [
    "# Hyperparameters\n",
    "BATCH_SIZE = 64\n",
    "LEARNING_RATE = 1e-5 # Or even 5e-6. Experiment with this!\n",
    "NUM_EPOCHS = 30 # You can increase this if needed, but 15 is a good start with transfer learning"
   ]
  },
  {
   "cell_type": "code",
   "execution_count": 18,
   "id": "12c6ebe8-d24a-4962-b88e-4e8de07c95b9",
   "metadata": {},
   "outputs": [],
   "source": [
    "# --- 1. Data Transformations ---\n",
    "\n",
    "# ImageNet normalization values (standard for models pre-trained on ImageNet)\n",
    "# If your grayscale images are replicated to 3 channels, these are the appropriate means/stds\n",
    "# for a model pre-trained on RGB images.\n",
    "mean = [0.485, 0.456, 0.406]\n",
    "std = [0.229, 0.224, 0.225]"
   ]
  },
  {
   "cell_type": "code",
   "execution_count": 19,
   "id": "c26380c0-3598-4b01-a6ee-03f6f3de8af0",
   "metadata": {},
   "outputs": [],
   "source": [
    "# Data transformations\n",
    "transform = transforms.Compose([\n",
    "    transforms.Grayscale(num_output_channels=3), # Convert 1-channel grayscale to 3-channel RGB\n",
    "    transforms.Resize((224, 224)),              # Resize for MobileNetV3 input\n",
    "    transforms.RandomHorizontalFlip(),          # Data augmentation\n",
    "    transforms.ToTensor(),                      # Convert PIL image to PyTorch Tensor\n",
    "    transforms.Normalize(mean, std)             # Normalize pixel values\n",
    "])\n"
   ]
  },
  {
   "cell_type": "code",
   "execution_count": 20,
   "id": "a2b89994-ac53-49e5-aa64-3bcfcc433722",
   "metadata": {},
   "outputs": [],
   "source": [
    "# For the test set, no random augmentations\n",
    "test_transform = transforms.Compose([\n",
    "    transforms.Grayscale(num_output_channels=3),\n",
    "    transforms.Resize((224, 224)),\n",
    "    transforms.ToTensor(),\n",
    "    transforms.Normalize(mean, std)\n",
    "])"
   ]
  },
  {
   "cell_type": "code",
   "execution_count": 21,
   "id": "e0c3e3e6-2d1e-4633-aa75-289bf3b55675",
   "metadata": {},
   "outputs": [
    {
     "name": "stdout",
     "output_type": "stream",
     "text": [
      "Loading datasets...\n",
      "Found 28821 training images.\n",
      "Found 7066 testing images.\n",
      "Detected classes: ['angry', 'disgust', 'fear', 'happy', 'neutral', 'sad', 'surprise']\n",
      "Calculating class weights...\n",
      "Class counts: [3993  436 4103 7164 4982 4938 3205]\n",
      "Class weights (normalized): [0.06875312 0.6296587  0.06690986 0.03832094 0.05510461 0.05559562\n",
      " 0.08565716]\n",
      "--- Class Weights Calculated ---\n"
     ]
    }
   ],
   "source": [
    "# --- 2. Datasets and DataLoaders ---\n",
    "\n",
    "print(\"Loading datasets...\")\n",
    "train_dataset = datasets.ImageFolder(train_dir, transform=transform)\n",
    "test_dataset = datasets.ImageFolder(test_dir, transform=test_transform) # Use test_transform here\n",
    "\n",
    "train_loader = DataLoader(train_dataset, batch_size=BATCH_SIZE, shuffle=True, num_workers=os.cpu_count() // 2 or 1) # Use half CPU cores\n",
    "test_loader = DataLoader(test_dataset, batch_size=BATCH_SIZE, shuffle=False, num_workers=os.cpu_count() // 2 or 1)\n",
    "\n",
    "print(f\"Found {len(train_dataset)} training images.\")\n",
    "print(f\"Found {len(test_dataset)} testing images.\")\n",
    "print(f\"Detected classes: {train_dataset.classes}\")\n",
    "# Ensure that the dataset classes match the defined `classes` list order if you intend to map them\n",
    "# directly for classification_report. ImageFolder sorts them alphabetically.\n",
    "# It's good practice to ensure `classes` list matches `train_dataset.classes` for consistent reporting.\n",
    "if classes != train_dataset.classes:\n",
    "    print(f\"WARNING: Defined classes {classes} do not match dataset classes {train_dataset.classes}.\")\n",
    "    print(\"Adjusting `classes` list to match dataset order for reporting.\")\n",
    "    classes = train_dataset.classes # Ensure target_names in report are correct\n",
    "\n",
    "\n",
    "# --- Calculate Class Weights for Imbalanced Dataset ---\n",
    "# This ensures that the loss function gives more importance to smaller classes.\n",
    "import collections # Add this import at the top of your script\n",
    "\n",
    "print(\"Calculating class weights...\")\n",
    "\n",
    "# Get counts for each class in the training dataset\n",
    "# train_dataset.targets contains the numerical labels for each image\n",
    "class_counts = np.bincount(train_dataset.targets)\n",
    "\n",
    "# Inverse of class frequencies\n",
    "class_weights = 1.0 / class_counts\n",
    "\n",
    "# Normalize weights so they sum to 1 (optional, but good practice)\n",
    "class_weights = class_weights / class_weights.sum()\n",
    "\n",
    "# Convert to PyTorch tensor and move to device\n",
    "class_weights_tensor = torch.tensor(class_weights, dtype=torch.float).to(device)\n",
    "\n",
    "print(f\"Class counts: {class_counts}\")\n",
    "print(f\"Class weights (normalized): {class_weights_tensor.cpu().numpy()}\")\n",
    "print(\"--- Class Weights Calculated ---\")"
   ]
  },
  {
   "cell_type": "code",
   "execution_count": 22,
   "id": "37c31f19-75ce-4ee1-9ec8-7e23b5e97630",
   "metadata": {
    "scrolled": true
   },
   "outputs": [
    {
     "name": "stdout",
     "output_type": "stream",
     "text": [
      "Setting up model...\n",
      "Unfreezing last 4 feature blocks for fine-tuning...\n"
     ]
    }
   ],
   "source": [
    "# --- 3. Model Setup ---\n",
    "\n",
    "from torchvision.models import MobileNet_V3_Large_Weights\n",
    "\n",
    "print(\"Setting up model...\")\n",
    "\n",
    "# To get the exact same weights as pretrained=True currently provides:\n",
    "model = models.mobilenet_v3_large(weights=MobileNet_V3_Large_Weights.DEFAULT)\n",
    "\n",
    "# Or, to get the most up-to-date weights (recommended for future-proofing):\n",
    "# model = models.mobilenet_v3_large(weights=MobileNet_V3_Large_Weights.DEFAULT)\n",
    "\n",
    "# Freeze all parameters in the network\n",
    "for param in model.parameters():\n",
    "    param.requires_grad = False\n",
    "\n",
    "    # 1. Unfreeze the entire classifier head\n",
    "# By iterating model.classifier.parameters(), we ensure all layers in it are trainable\n",
    "for param in model.classifier.parameters():\n",
    "    param.requires_grad = True\n",
    "\n",
    "# Replace the classifier head for our specific task\n",
    "# MobileNetV3-Large's classifier is nn.Sequential(Linear, Hardswish, Dropout, Linear)\n",
    "# The last layer is model.classifier[3]\n",
    "# Ensure the input features match the output of the previous layer\n",
    "in_features = model.classifier[3].in_features\n",
    "model.classifier[3] = nn.Linear(in_features, num_classes) # Set output to number of emotion classes\n",
    "\n",
    "# Fine-tune: Unfreeze the last few blocks of the feature extractor\n",
    "# MobileNetV3-Large's `features` Sequential module has 17 blocks (indexed 0 to 16).\n",
    "# We'll unfreeze the last `blocks_to_unfreeze` blocks.\n",
    "\n",
    "num_feature_blocks = len(model.features) # This will correctly be 17\n",
    "blocks_to_unfreeze = 4 # Experiment with 2, 3, 4, 5, etc.\n",
    "\n",
    "print(f\"Unfreezing last {blocks_to_unfreeze} feature blocks for fine-tuning...\")\n",
    "for i, child in enumerate(model.features):\n",
    "    # Unfreeze blocks from (num_feature_blocks - blocks_to_unfreeze) onwards\n",
    "    # Example: if num_feature_blocks=17, blocks_to_unfreeze=4\n",
    "    # We want to unfreeze 13, 14, 15, 16. So, `if i >= (17 - 4) = 13`\n",
    "    if i >= (num_feature_blocks - blocks_to_unfreeze): \n",
    "        for param in child.parameters():\n",
    "            param.requires_grad = True\n",
    "\n",
    "model = model.to(device)\n",
    "\n",
    "# Loss and optimizer\n",
    "criterion = nn.CrossEntropyLoss(weight=class_weights_tensor) # Use calculated class weights\n",
    "\n",
    "# IMPORTANT: When fine-tuning, use a significantly lower learning rate for the entire model\n",
    "# as you are now training more layers.\n",
    "LEARNING_RATE = 1e-5 # Reduced learning rate. Experiment with 5e-6, 1e-6 if needed.\n",
    "\n",
    "optimizer = optim.Adam(model.parameters(), lr=LEARNING_RATE)\n",
    "\n",
    "# Add a learning rate scheduler (as discussed in previous steps)\n",
    "scheduler = optim.lr_scheduler.ReduceLROnPlateau(optimizer, mode='min', factor=0.1, patience=5, verbose=True)\n",
    "\n",
    "# Also, adjust NUM_EPOCHS if you haven't already.\n",
    "# NUM_EPOCHS = 25 # Set this higher if fine-tuning."
   ]
  },
  {
   "cell_type": "code",
   "execution_count": 23,
   "id": "97390240-7fc0-49a2-818e-9dc2b7166238",
   "metadata": {
    "scrolled": true
   },
   "outputs": [
    {
     "name": "stdout",
     "output_type": "stream",
     "text": [
      "Starting training...\n"
     ]
    },
    {
     "name": "stderr",
     "output_type": "stream",
     "text": [
      "                                                                                                                                                                                                                                 "
     ]
    },
    {
     "name": "stdout",
     "output_type": "stream",
     "text": [
      "\n",
      "Epoch 1/30\n",
      "  Train: Loss: 1.8817, Acc: 0.2411\n",
      "  Val  : Loss: 1.7814, Acc: 0.3431, Prec: 0.3251, Rec: 0.3431, F1: 0.3124\n",
      "Best model saved with accuracy: 0.3431\n"
     ]
    },
    {
     "name": "stderr",
     "output_type": "stream",
     "text": [
      "                                                                                                                                                                                                                                 "
     ]
    },
    {
     "name": "stdout",
     "output_type": "stream",
     "text": [
      "\n",
      "Epoch 2/30\n",
      "  Train: Loss: 1.7048, Acc: 0.3663\n",
      "  Val  : Loss: 1.6187, Acc: 0.3915, Prec: 0.4037, Rec: 0.3915, F1: 0.3866\n",
      "Best model saved with accuracy: 0.3915\n"
     ]
    },
    {
     "name": "stderr",
     "output_type": "stream",
     "text": [
      "                                                                                                                                                                                                                                 "
     ]
    },
    {
     "name": "stdout",
     "output_type": "stream",
     "text": [
      "\n",
      "Epoch 3/30\n",
      "  Train: Loss: 1.5589, Acc: 0.4143\n",
      "  Val  : Loss: 1.4801, Acc: 0.4373, Prec: 0.4416, Rec: 0.4373, F1: 0.4314\n",
      "Best model saved with accuracy: 0.4373\n"
     ]
    },
    {
     "name": "stderr",
     "output_type": "stream",
     "text": [
      "                                                                                                                                                                                                                                 "
     ]
    },
    {
     "name": "stdout",
     "output_type": "stream",
     "text": [
      "\n",
      "Epoch 4/30\n",
      "  Train: Loss: 1.4505, Acc: 0.4466\n",
      "  Val  : Loss: 1.4297, Acc: 0.4556, Prec: 0.4745, Rec: 0.4556, F1: 0.4525\n",
      "Best model saved with accuracy: 0.4556\n"
     ]
    },
    {
     "name": "stderr",
     "output_type": "stream",
     "text": [
      "                                                                                                                                                                                                                                 "
     ]
    },
    {
     "name": "stdout",
     "output_type": "stream",
     "text": [
      "\n",
      "Epoch 5/30\n",
      "  Train: Loss: 1.3760, Acc: 0.4714\n",
      "  Val  : Loss: 1.3583, Acc: 0.4863, Prec: 0.5004, Rec: 0.4863, F1: 0.4868\n",
      "Best model saved with accuracy: 0.4863\n"
     ]
    },
    {
     "name": "stderr",
     "output_type": "stream",
     "text": [
      "                                                                                                                                                                                                                                 "
     ]
    },
    {
     "name": "stdout",
     "output_type": "stream",
     "text": [
      "\n",
      "Epoch 6/30\n",
      "  Train: Loss: 1.3143, Acc: 0.4930\n",
      "  Val  : Loss: 1.3300, Acc: 0.4979, Prec: 0.5144, Rec: 0.4979, F1: 0.4996\n",
      "Best model saved with accuracy: 0.4979\n"
     ]
    },
    {
     "name": "stderr",
     "output_type": "stream",
     "text": [
      "                                                                                                                                                                                                                                 "
     ]
    },
    {
     "name": "stdout",
     "output_type": "stream",
     "text": [
      "\n",
      "Epoch 7/30\n",
      "  Train: Loss: 1.2595, Acc: 0.5095\n",
      "  Val  : Loss: 1.2843, Acc: 0.5194, Prec: 0.5267, Rec: 0.5194, F1: 0.5178\n",
      "Best model saved with accuracy: 0.5194\n"
     ]
    },
    {
     "name": "stderr",
     "output_type": "stream",
     "text": [
      "                                                                                                                                                                                                                                 "
     ]
    },
    {
     "name": "stdout",
     "output_type": "stream",
     "text": [
      "\n",
      "Epoch 8/30\n",
      "  Train: Loss: 1.2139, Acc: 0.5231\n",
      "  Val  : Loss: 1.2727, Acc: 0.5243, Prec: 0.5402, Rec: 0.5243, F1: 0.5268\n",
      "Best model saved with accuracy: 0.5243\n"
     ]
    },
    {
     "name": "stderr",
     "output_type": "stream",
     "text": [
      "                                                                                                                                                                                                                                 "
     ]
    },
    {
     "name": "stdout",
     "output_type": "stream",
     "text": [
      "\n",
      "Epoch 9/30\n",
      "  Train: Loss: 1.1750, Acc: 0.5378\n",
      "  Val  : Loss: 1.2577, Acc: 0.5309, Prec: 0.5436, Rec: 0.5309, F1: 0.5322\n",
      "Best model saved with accuracy: 0.5309\n"
     ]
    },
    {
     "name": "stderr",
     "output_type": "stream",
     "text": [
      "                                                                                                                                                                                                                                 "
     ]
    },
    {
     "name": "stdout",
     "output_type": "stream",
     "text": [
      "\n",
      "Epoch 10/30\n",
      "  Train: Loss: 1.1516, Acc: 0.5438\n",
      "  Val  : Loss: 1.2566, Acc: 0.5309, Prec: 0.5520, Rec: 0.5309, F1: 0.5346\n"
     ]
    },
    {
     "name": "stderr",
     "output_type": "stream",
     "text": [
      "                                                                                                                                                                                                                                 "
     ]
    },
    {
     "name": "stdout",
     "output_type": "stream",
     "text": [
      "\n",
      "Epoch 11/30\n",
      "  Train: Loss: 1.1150, Acc: 0.5524\n",
      "  Val  : Loss: 1.2274, Acc: 0.5416, Prec: 0.5508, Rec: 0.5416, F1: 0.5405\n",
      "Best model saved with accuracy: 0.5416\n"
     ]
    },
    {
     "name": "stderr",
     "output_type": "stream",
     "text": [
      "                                                                                                                                                                                                                                 "
     ]
    },
    {
     "name": "stdout",
     "output_type": "stream",
     "text": [
      "\n",
      "Epoch 12/30\n",
      "  Train: Loss: 1.0860, Acc: 0.5617\n",
      "  Val  : Loss: 1.1975, Acc: 0.5515, Prec: 0.5539, Rec: 0.5515, F1: 0.5494\n",
      "Best model saved with accuracy: 0.5515\n"
     ]
    },
    {
     "name": "stderr",
     "output_type": "stream",
     "text": [
      "                                                                                                                                                                                                                                 "
     ]
    },
    {
     "name": "stdout",
     "output_type": "stream",
     "text": [
      "\n",
      "Epoch 13/30\n",
      "  Train: Loss: 1.0537, Acc: 0.5703\n",
      "  Val  : Loss: 1.1937, Acc: 0.5531, Prec: 0.5592, Rec: 0.5531, F1: 0.5521\n",
      "Best model saved with accuracy: 0.5531\n"
     ]
    },
    {
     "name": "stderr",
     "output_type": "stream",
     "text": [
      "                                                                                                                                                                                                                                 "
     ]
    },
    {
     "name": "stdout",
     "output_type": "stream",
     "text": [
      "\n",
      "Epoch 14/30\n",
      "  Train: Loss: 1.0330, Acc: 0.5761\n",
      "  Val  : Loss: 1.1783, Acc: 0.5590, Prec: 0.5576, Rec: 0.5590, F1: 0.5536\n",
      "Best model saved with accuracy: 0.5590\n"
     ]
    },
    {
     "name": "stderr",
     "output_type": "stream",
     "text": [
      "                                                                                                                                                                                                                                 "
     ]
    },
    {
     "name": "stdout",
     "output_type": "stream",
     "text": [
      "\n",
      "Epoch 15/30\n",
      "  Train: Loss: 1.0090, Acc: 0.5849\n",
      "  Val  : Loss: 1.1746, Acc: 0.5597, Prec: 0.5671, Rec: 0.5597, F1: 0.5590\n",
      "Best model saved with accuracy: 0.5597\n"
     ]
    },
    {
     "name": "stderr",
     "output_type": "stream",
     "text": [
      "                                                                                                                                                                                                                                 "
     ]
    },
    {
     "name": "stdout",
     "output_type": "stream",
     "text": [
      "\n",
      "Epoch 16/30\n",
      "  Train: Loss: 0.9889, Acc: 0.5942\n",
      "  Val  : Loss: 1.1667, Acc: 0.5643, Prec: 0.5695, Rec: 0.5643, F1: 0.5632\n",
      "Best model saved with accuracy: 0.5643\n"
     ]
    },
    {
     "name": "stderr",
     "output_type": "stream",
     "text": [
      "                                                                                                                                                                                                                                 "
     ]
    },
    {
     "name": "stdout",
     "output_type": "stream",
     "text": [
      "\n",
      "Epoch 17/30\n",
      "  Train: Loss: 0.9666, Acc: 0.5988\n",
      "  Val  : Loss: 1.1576, Acc: 0.5716, Prec: 0.5719, Rec: 0.5716, F1: 0.5688\n",
      "Best model saved with accuracy: 0.5716\n"
     ]
    },
    {
     "name": "stderr",
     "output_type": "stream",
     "text": [
      "                                                                                                                                                                                                                                 "
     ]
    },
    {
     "name": "stdout",
     "output_type": "stream",
     "text": [
      "\n",
      "Epoch 18/30\n",
      "  Train: Loss: 0.9489, Acc: 0.6087\n",
      "  Val  : Loss: 1.1681, Acc: 0.5633, Prec: 0.5706, Rec: 0.5633, F1: 0.5626\n"
     ]
    },
    {
     "name": "stderr",
     "output_type": "stream",
     "text": [
      "                                                                                                                                                                                                                                 "
     ]
    },
    {
     "name": "stdout",
     "output_type": "stream",
     "text": [
      "\n",
      "Epoch 19/30\n",
      "  Train: Loss: 0.9375, Acc: 0.6132\n",
      "  Val  : Loss: 1.1517, Acc: 0.5715, Prec: 0.5753, Rec: 0.5715, F1: 0.5689\n"
     ]
    },
    {
     "name": "stderr",
     "output_type": "stream",
     "text": [
      "                                                                                                                                                                                                                                 "
     ]
    },
    {
     "name": "stdout",
     "output_type": "stream",
     "text": [
      "\n",
      "Epoch 20/30\n",
      "  Train: Loss: 0.9163, Acc: 0.6187\n",
      "  Val  : Loss: 1.1533, Acc: 0.5735, Prec: 0.5791, Rec: 0.5735, F1: 0.5732\n",
      "Best model saved with accuracy: 0.5735\n"
     ]
    },
    {
     "name": "stderr",
     "output_type": "stream",
     "text": [
      "                                                                                                                                                                                                                                 "
     ]
    },
    {
     "name": "stdout",
     "output_type": "stream",
     "text": [
      "\n",
      "Epoch 21/30\n",
      "  Train: Loss: 0.8995, Acc: 0.6249\n",
      "  Val  : Loss: 1.1422, Acc: 0.5774, Prec: 0.5820, Rec: 0.5774, F1: 0.5787\n",
      "Best model saved with accuracy: 0.5774\n"
     ]
    },
    {
     "name": "stderr",
     "output_type": "stream",
     "text": [
      "                                                                                                                                                                                                                                 "
     ]
    },
    {
     "name": "stdout",
     "output_type": "stream",
     "text": [
      "\n",
      "Epoch 22/30\n",
      "  Train: Loss: 0.8866, Acc: 0.6322\n",
      "  Val  : Loss: 1.1423, Acc: 0.5805, Prec: 0.5875, Rec: 0.5805, F1: 0.5819\n",
      "Best model saved with accuracy: 0.5805\n"
     ]
    },
    {
     "name": "stderr",
     "output_type": "stream",
     "text": [
      "                                                                                                                                                                                                                                 "
     ]
    },
    {
     "name": "stdout",
     "output_type": "stream",
     "text": [
      "\n",
      "Epoch 23/30\n",
      "  Train: Loss: 0.8732, Acc: 0.6324\n",
      "  Val  : Loss: 1.1450, Acc: 0.5790, Prec: 0.5823, Rec: 0.5790, F1: 0.5785\n"
     ]
    },
    {
     "name": "stderr",
     "output_type": "stream",
     "text": [
      "                                                                                                                                                                                                                                 "
     ]
    },
    {
     "name": "stdout",
     "output_type": "stream",
     "text": [
      "\n",
      "Epoch 24/30\n",
      "  Train: Loss: 0.8553, Acc: 0.6402\n",
      "  Val  : Loss: 1.1411, Acc: 0.5778, Prec: 0.5802, Rec: 0.5778, F1: 0.5745\n"
     ]
    },
    {
     "name": "stderr",
     "output_type": "stream",
     "text": [
      "                                                                                                                                                                                                                                 "
     ]
    },
    {
     "name": "stdout",
     "output_type": "stream",
     "text": [
      "\n",
      "Epoch 25/30\n",
      "  Train: Loss: 0.8403, Acc: 0.6488\n",
      "  Val  : Loss: 1.1344, Acc: 0.5872, Prec: 0.5900, Rec: 0.5872, F1: 0.5865\n",
      "Best model saved with accuracy: 0.5872\n"
     ]
    },
    {
     "name": "stderr",
     "output_type": "stream",
     "text": [
      "                                                                                                                                                                                                                                 "
     ]
    },
    {
     "name": "stdout",
     "output_type": "stream",
     "text": [
      "\n",
      "Epoch 26/30\n",
      "  Train: Loss: 0.8268, Acc: 0.6508\n",
      "  Val  : Loss: 1.1328, Acc: 0.5886, Prec: 0.5933, Rec: 0.5886, F1: 0.5897\n",
      "Best model saved with accuracy: 0.5886\n"
     ]
    },
    {
     "name": "stderr",
     "output_type": "stream",
     "text": [
      "                                                                                                                                                                                                                                 "
     ]
    },
    {
     "name": "stdout",
     "output_type": "stream",
     "text": [
      "\n",
      "Epoch 27/30\n",
      "  Train: Loss: 0.8130, Acc: 0.6569\n",
      "  Val  : Loss: 1.1289, Acc: 0.5947, Prec: 0.5957, Rec: 0.5947, F1: 0.5937\n",
      "Best model saved with accuracy: 0.5947\n"
     ]
    },
    {
     "name": "stderr",
     "output_type": "stream",
     "text": [
      "                                                                                                                                                                                                                                 "
     ]
    },
    {
     "name": "stdout",
     "output_type": "stream",
     "text": [
      "\n",
      "Epoch 28/30\n",
      "  Train: Loss: 0.8049, Acc: 0.6618\n",
      "  Val  : Loss: 1.1305, Acc: 0.5930, Prec: 0.5941, Rec: 0.5930, F1: 0.5908\n"
     ]
    },
    {
     "name": "stderr",
     "output_type": "stream",
     "text": [
      "                                                                                                                                                                                                                                 "
     ]
    },
    {
     "name": "stdout",
     "output_type": "stream",
     "text": [
      "\n",
      "Epoch 29/30\n",
      "  Train: Loss: 0.7895, Acc: 0.6682\n",
      "  Val  : Loss: 1.1232, Acc: 0.5951, Prec: 0.5940, Rec: 0.5951, F1: 0.5935\n",
      "Best model saved with accuracy: 0.5951\n"
     ]
    },
    {
     "name": "stderr",
     "output_type": "stream",
     "text": [
      "                                                                                                                                                                                                                                 "
     ]
    },
    {
     "name": "stdout",
     "output_type": "stream",
     "text": [
      "\n",
      "Epoch 30/30\n",
      "  Train: Loss: 0.7739, Acc: 0.6754\n",
      "  Val  : Loss: 1.1291, Acc: 0.5938, Prec: 0.5929, Rec: 0.5938, F1: 0.5923\n",
      "\n",
      "Training complete.\n",
      "Total training time: 2679.42 seconds\n",
      "\n",
      "--- Final Evaluation on Test Set ---\n",
      "              precision    recall  f1-score   support\n",
      "\n",
      "       angry     0.4869    0.4833    0.4851       960\n",
      "     disgust     0.5273    0.5225    0.5249       111\n",
      "        fear     0.4241    0.3566    0.3874      1018\n",
      "       happy     0.8330    0.8005    0.8164      1825\n",
      "     neutral     0.5420    0.5567    0.5493      1216\n",
      "         sad     0.4717    0.5040    0.4873      1139\n",
      "    surprise     0.6462    0.7516    0.6949       797\n",
      "\n",
      "    accuracy                         0.5938      7066\n",
      "   macro avg     0.5616    0.5679    0.5636      7066\n",
      "weighted avg     0.5929    0.5938    0.5923      7066\n",
      "\n"
     ]
    },
    {
     "name": "stderr",
     "output_type": "stream",
     "text": []
    }
   ],
   "source": [
    "# --- 4. Training Function ---\n",
    "\n",
    "def train_model(model, criterion, optimizer, train_loader, test_loader, num_epochs, best_acc, classes, model_save_dir):\n",
    "    start_time = time.time()\n",
    "\n",
    "    for epoch in range(num_epochs):\n",
    "        # --- Training Phase ---\n",
    "        model.train()\n",
    "        running_loss = 0.0\n",
    "        correct_train_predictions = 0\n",
    "        total_train_samples = 0\n",
    "        \n",
    "        train_bar = tqdm(train_loader, desc=f\"Epoch {epoch+1}/{num_epochs} [Train]\", leave=False)\n",
    "        for images, labels in train_bar:\n",
    "            images, labels = images.to(device), labels.to(device)\n",
    "\n",
    "            optimizer.zero_grad()\n",
    "            outputs = model(images)\n",
    "            loss = criterion(outputs, labels)\n",
    "            loss.backward()\n",
    "            optimizer.step()\n",
    "\n",
    "            running_loss += loss.item() * images.size(0)\n",
    "            _, predicted = torch.max(outputs, 1)\n",
    "            total_train_samples += labels.size(0)\n",
    "            correct_train_predictions += (predicted == labels).sum().item()\n",
    "\n",
    "            # Update progress bar with current batch metrics\n",
    "            train_bar.set_postfix(loss=f\"{loss.item():.4f}\", acc=f\"{correct_train_predictions/total_train_samples:.4f}\")\n",
    "\n",
    "        # Aggregate epoch metrics for training\n",
    "        epoch_train_loss = running_loss / len(train_loader.dataset)\n",
    "        epoch_train_acc = correct_train_predictions / total_train_samples\n",
    "\n",
    "        # --- Validation Phase ---\n",
    "        model.eval()\n",
    "        y_true, y_pred = [], [] # Reset for each validation\n",
    "        validation_loss = 0.0\n",
    "        \n",
    "        with torch.no_grad():\n",
    "            val_bar = tqdm(test_loader, desc=f\"Epoch {epoch+1}/{num_epochs} [Val]\", leave=False)\n",
    "            for images, labels in val_bar:\n",
    "                images, labels = images.to(device), labels.to(device)\n",
    "                outputs = model(images)\n",
    "                loss = criterion(outputs, labels)\n",
    "\n",
    "                validation_loss += loss.item() * images.size(0)\n",
    "                _, predicted = torch.max(outputs, 1)\n",
    "                y_true.extend(labels.cpu().numpy())\n",
    "                y_pred.extend(predicted.cpu().numpy())\n",
    "        \n",
    "        # Aggregate epoch metrics for validation\n",
    "        val_epoch_loss = validation_loss / len(test_loader.dataset)\n",
    "        val_acc = accuracy_score(y_true, y_pred) # Use sklearn's accuracy for consistency\n",
    "        \n",
    "        # Calculate precision, recall, f1-score for validation\n",
    "        # Use 'weighted' average to account for class imbalance, if any\n",
    "        val_precision = precision_score(y_true, y_pred, average='weighted', zero_division=0)\n",
    "        val_recall = recall_score(y_true, y_pred, average='weighted', zero_division=0)\n",
    "        val_f1 = f1_score(y_true, y_pred, average='weighted', zero_division=0)\n",
    "\n",
    "        scheduler.step(val_epoch_loss) # Tell the scheduler validation loss for this epoch\n",
    "\n",
    "        # --- Print Epoch Summary (Keras-like format) ---\n",
    "        print(f\"\\nEpoch {epoch+1}/{num_epochs}\")\n",
    "        # Print Training Metrics\n",
    "        print(f\"  Train: Loss: {epoch_train_loss:.4f}, Acc: {epoch_train_acc:.4f}\")\n",
    "        # Print Validation Metrics\n",
    "        print(f\"  Val  : Loss: {val_epoch_loss:.4f}, Acc: {val_acc:.4f}, \"\n",
    "              f\"Prec: {val_precision:.4f}, Rec: {val_recall:.4f}, F1: {val_f1:.4f}\")\n",
    "\n",
    "\n",
    "        # Save best model\n",
    "        if val_acc > best_acc:\n",
    "            best_acc = val_acc\n",
    "            model_path = os.path.join(model_save_dir, \"best_mobilenetv3_emotion.pth\")\n",
    "            torch.save(model.state_dict(), model_path)\n",
    "            print(f\"Best model saved with accuracy: {best_acc:.4f}\")\n",
    "\n",
    "    # Ensure these lines are correctly unindented to be outside the epoch loop\n",
    "    end_time = time.time()\n",
    "    print(\"\\nTraining complete.\")\n",
    "    print(f\"Total training time: {(end_time - start_time):.2f} seconds\")\n",
    "\n",
    "    # Final detailed classification report on the test set\n",
    "    # Note: y_true and y_pred here will reflect the last epoch's validation results.\n",
    "    print(\"\\n--- Final Evaluation on Test Set ---\")\n",
    "    print(classification_report(y_true, y_pred, target_names=classes, digits=4))\n",
    "    \n",
    "    return model\n",
    "\n",
    "# Start training\n",
    "print(\"Starting training...\")\n",
    "trained_model = train_model(model, criterion, optimizer, train_loader, test_loader, NUM_EPOCHS, best_acc=0.0, classes=classes, model_save_dir=model_save_dir)"
   ]
  },
  {
   "cell_type": "code",
   "execution_count": 27,
   "id": "dde80732-d227-4c77-8f48-7217fcb26312",
   "metadata": {},
   "outputs": [
    {
     "name": "stdout",
     "output_type": "stream",
     "text": [
      "\n",
      "--- Testing Single Image Prediction ---\n",
      "\n",
      "Loading best model weights from: models\\best_mobilenetv3_emotion.pth\n",
      "Original image from: images/train/sad/42.jpg\n",
      "Model prediction: sad (Confidence: 68.22%)\n"
     ]
    },
    {
     "data": {
      "image/png": "[encoded data removed]",
      "text/plain": [
       "<Figure size 640x480 with 1 Axes>"
      ]
     },
     "metadata": {},
     "output_type": "display_data"
    },
    {
     "name": "stdout",
     "output_type": "stream",
     "text": [
      "\n",
      "Loading best model weights from: models\\best_mobilenetv3_emotion.pth\n",
      "Original image from: images/train/fear/2.jpg\n",
      "Model prediction: fear (Confidence: 62.09%)\n"
     ]
    },
    {
     "data": {
      "image/png": "[encoded data removed]",
      "text/plain": [
       "<Figure size 640x480 with 1 Axes>"
      ]
     },
     "metadata": {},
     "output_type": "display_data"
    },
    {
     "name": "stdout",
     "output_type": "stream",
     "text": [
      "\n",
      "Loading best model weights from: models\\best_mobilenetv3_emotion.pth\n",
      "Original image from: images/train/disgust/299.jpg\n",
      "Model prediction: disgust (Confidence: 99.81%)\n"
     ]
    },
    {
     "data": {
      "image/png": "[encoded data removed]",
      "text/plain": [
       "<Figure size 640x480 with 1 Axes>"
      ]
     },
     "metadata": {},
     "output_type": "display_data"
    },
    {
     "name": "stdout",
     "output_type": "stream",
     "text": [
      "\n",
      "Loading best model weights from: models\\best_mobilenetv3_emotion.pth\n",
      "Original image from: images/train/happy/7.jpg\n",
      "Model prediction: happy (Confidence: 94.30%)\n"
     ]
    },
    {
     "data": {
      "image/png": "[encoded data removed]",
      "text/plain": [
       "<Figure size 640x480 with 1 Axes>"
      ]
     },
     "metadata": {},
     "output_type": "display_data"
    },
    {
     "name": "stdout",
     "output_type": "stream",
     "text": [
      "\n",
      "Loading best model weights from: models\\best_mobilenetv3_emotion.pth\n",
      "Original image from: images/train/surprise/15.jpg\n",
      "Model prediction: neutral (Confidence: 43.48%)\n"
     ]
    },
    {
     "data": {
      "image/png": "[encoded data removed]",
      "text/plain": [
       "<Figure size 640x480 with 1 Axes>"
      ]
     },
     "metadata": {},
     "output_type": "display_data"
    },
    {
     "name": "stdout",
     "output_type": "stream",
     "text": [
      "\n",
      "Loading best model weights from: models\\best_mobilenetv3_emotion.pth\n",
      "Original image from: images/test/neutral/10001.jpg\n",
      "Model prediction: neutral (Confidence: 41.14%)\n"
     ]
    },
    {
     "data": {
      "image/png": "[encoded data removed]",
      "text/plain": [
       "<Figure size 640x480 with 1 Axes>"
      ]
     },
     "metadata": {},
     "output_type": "display_data"
    }
   ],
   "source": [
    "# --- 6. Load Best Model and Predict Single Image ---\n",
    "\n",
    "def predict_single_image(model, image_path, classes, transform, device, model_weights_path=None):\n",
    "    \"\"\"\n",
    "    Loads a model, predicts the class of a single image, and displays it.\n",
    "    \"\"\"\n",
    "    # Load the model state dictionary if provided\n",
    "    if model_weights_path and os.path.exists(model_weights_path):\n",
    "        print(f\"\\nLoading best model weights from: {model_weights_path}\")\n",
    "        # Create a fresh model instance to load weights into\n",
    "        # Need to reconstruct the model architecture exactly as it was saved\n",
    "        # This part assumes you want to load the best model for inference after training\n",
    "        # If 'model' is already the trained_model, you don't need to load again.\n",
    "        \n",
    "        # To be safe and load the *best* model saved during training:\n",
    "        if isinstance(model, nn.Module): # Check if it's already a PyTorch model\n",
    "            # Re-initialize the model if needed, or assume it's the correct structure\n",
    "            # For this context, we'll assume `model` passed to this function is the one that was saved\n",
    "            pass\n",
    "        else:\n",
    "            # You would reconstruct the model here, e.g.:\n",
    "            # model = models.mobilenet_v3_large(weights=None) # Start with uninitialized weights\n",
    "            # in_features_reconstruct = model.classifier[3].in_features\n",
    "            # model.classifier[3] = nn.Linear(in_features_reconstruct, len(classes))\n",
    "            # model = model.to(device)\n",
    "            pass # Keep using the passed 'model' for simplicity now.\n",
    "            \n",
    "        model.load_state_dict(torch.load(model_weights_path, map_location=device, weights_only=True))\n",
    "    \n",
    "    model.eval() # Set model to evaluation mode\n",
    "    \n",
    "    try:\n",
    "        # Load the image\n",
    "        img = Image.open(image_path).convert('RGB')\n",
    "        print(f\"Original image from: {image_path}\")\n",
    "\n",
    "        # Apply the same transformations as the test set\n",
    "        img_tensor = transform(img).unsqueeze(0).to(device) # Add batch dimension\n",
    "\n",
    "        # Make prediction\n",
    "        with torch.no_grad():\n",
    "            output = model(img_tensor)\n",
    "            probabilities = torch.softmax(output, dim=1)\n",
    "            _, predicted_idx = torch.max(probabilities, 1)\n",
    "            \n",
    "            pred_label = classes[predicted_idx.item()]\n",
    "            confidence = probabilities[0, predicted_idx.item()].item() * 100\n",
    "\n",
    "        print(f\"Model prediction: {pred_label} (Confidence: {confidence:.2f}%)\")\n",
    "        \n",
    "        # Display the image\n",
    "        plt.imshow(img)\n",
    "        plt.title(f\"Prediction: {pred_label}\")\n",
    "        plt.axis('off')\n",
    "        plt.show()\n",
    "\n",
    "    except FileNotFoundError:\n",
    "        print(f\"Error: Image not found at {image_path}\")\n",
    "    except Exception as e:\n",
    "        print(f\"An error occurred: {e}\")\n",
    "\n",
    "# Example usage for single image prediction\n",
    "print(\"\\n--- Testing Single Image Prediction ---\")\n",
    "test_image_paths = [\n",
    "    'images/train/sad/42.jpg',\n",
    "    'images/train/fear/2.jpg',\n",
    "    'images/train/disgust/299.jpg',\n",
    "    'images/train/happy/7.jpg',\n",
    "    'images/train/surprise/15.jpg',\n",
    "    'images/test/neutral/10001.jpg' # Example from test set\n",
    "]\n",
    "\n",
    "for img_path in test_image_paths:\n",
    "    # Use the best model saved during training for prediction\n",
    "    predict_single_image(trained_model, img_path, classes, test_transform, device, \n",
    "                         model_weights_path=os.path.join(model_save_dir, \"best_mobilenetv3_emotion.pth\"))\n",
    "    time.sleep(1)\n"
   ]
  },
  {
   "cell_type": "code",
   "execution_count": null,
   "id": "e6e33ab8-9e64-4047-9c19-e165675382b9",
   "metadata": {},
   "outputs": [],
   "source": []
  }
 ],
 "metadata": {
  "kernelspec": {
   "display_name": "Python 3 (ipykernel)",
   "language": "python",
   "name": "python3"
  },
  "language_info": {
   "codemirror_mode": {
    "name": "ipython",
    "version": 3
   },
   "file_extension": ".py",
   "mimetype": "text/x-python",
   "name": "python",
   "nbconvert_exporter": "python",
   "pygments_lexer": "ipython3",
   "version": "3.10.9"
  }
 },
 "nbformat": 4,
 "nbformat_minor": 5
}
