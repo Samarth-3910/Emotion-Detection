{
 "cells": [
  {
   "cell_type": "code",
   "execution_count": 2,
   "id": "6332065a-8c49-46af-a69c-66fd2f1ab3a2",
   "metadata": {},
   "outputs": [],
   "source": [
    "import os\n",
    "import torch\n",
    "import torch.nn as nn\n",
    "import torch.optim as optim\n",
    "from torchvision import datasets, transforms, models\n",
    "from torch.utils.data import DataLoader\n",
    "from sklearn.metrics import classification_report, accuracy_score, precision_score, recall_score, f1_score\n",
    "import numpy as np\n",
    "import time\n",
    "from PIL import Image # For loading single images\n",
    "from tqdm import tqdm # For progress bar\n",
    "import matplotlib.pyplot as plt\n",
    "from torchvision import datasets, transforms, models # <-- Make sure 'transforms' is here\n",
    "\n",
    "# --- ADD THIS NEW IMPORT FOR VISION TRANSFORMER WEIGHTS ---\n",
    "from torchvision.models import ViT_B_16_Weights # For Vision Transformer Base model, patch size 16x16\n",
    "\n",
    "from sklearn.metrics import confusion_matrix\n",
    "import seaborn as sns # For pretty plots, install with `pip install seaborn`"
   ]
  },
  {
   "cell_type": "code",
   "execution_count": 3,
   "id": "75266e05-4978-4d41-9154-905ac2327689",
   "metadata": {},
   "outputs": [
    {
     "name": "stdout",
     "output_type": "stream",
     "text": [
      "Using device: cuda\n"
     ]
    }
   ],
   "source": [
    "# --- 0. Configuration and Setup ---\n",
    "\n",
    "# Set device\n",
    "device = torch.device(\"cuda\" if torch.cuda.is_available() else \"cpu\")\n",
    "print(f\"Using device: {device}\")"
   ]
  },
  {
   "cell_type": "code",
   "execution_count": 4,
   "id": "929b4c8c-69fb-4900-bbc9-ab019b6d9525",
   "metadata": {},
   "outputs": [],
   "source": [
    "# Set random seed for reproducibility\n",
    "torch.manual_seed(42)\n",
    "if torch.cuda.is_available():\n",
    "    torch.cuda.manual_seed_all(42)\n",
    "    torch.backends.cudnn.deterministic = True\n",
    "    torch.backends.cudnn.benchmark = False # Recommended for reproducibility"
   ]
  },
  {
   "cell_type": "code",
   "execution_count": 5,
   "id": "103ebef2-ccac-4ad0-bd10-5f6a85e1c39a",
   "metadata": {},
   "outputs": [],
   "source": [
    "# Directories\n",
    "data_dir = \"images\"\n",
    "train_dir = os.path.join(data_dir, \"train\")\n",
    "test_dir = os.path.join(data_dir, \"test\")\n",
    "model_save_dir = \"models\"\n",
    "os.makedirs(model_save_dir, exist_ok=True) # Create models directory if it doesn't exist"
   ]
  },
  {
   "cell_type": "code",
   "execution_count": 6,
   "id": "20d4d7f1-ac34-46bc-a142-f2302d819093",
   "metadata": {},
   "outputs": [],
   "source": [
    "# Emotion classes (ensure this matches your folder names)\n",
    "classes = ['angry', 'disgust', 'fear', 'happy', 'neutral', 'sad', 'surprise']\n",
    "num_classes = len(classes)"
   ]
  },
  {
   "cell_type": "code",
   "execution_count": 7,
   "id": "d43f240d-9943-4a39-a975-fdb7d3061089",
   "metadata": {},
   "outputs": [],
   "source": [
    "# Hyperparameters\n",
    "BATCH_SIZE = 32\n",
    "LEARNING_RATE = 5e-6 # Or even 5e-6. Experiment with this!\n",
    "NUM_EPOCHS = 30 # You can increase this if needed, but 15 is a good start with transfer learning"
   ]
  },
  {
   "cell_type": "code",
   "execution_count": 8,
   "id": "12c6ebe8-d24a-4962-b88e-4e8de07c95b9",
   "metadata": {},
   "outputs": [],
   "source": [
    "# --- 1. Data Transformations ---\n",
    "\n",
    "# ImageNet normalization values (standard for models pre-trained on ImageNet)\n",
    "# If your grayscale images are replicated to 3 channels, these are the appropriate means/stds\n",
    "# for a model pre-trained on RGB images.\n",
    "mean = [0.485, 0.456, 0.406]\n",
    "std = [0.229, 0.224, 0.225]"
   ]
  },
  {
   "cell_type": "code",
   "execution_count": 9,
   "id": "c26380c0-3598-4b01-a6ee-03f6f3de8af0",
   "metadata": {},
   "outputs": [],
   "source": [
    "# Data transformations\n",
    "transform = transforms.Compose([\n",
    "    transforms.Grayscale(num_output_channels=3), # Convert 1-channel grayscale to 3-channel RGB\n",
    "    transforms.Resize((224, 224)),              # Resize for MobileNetV3 input\n",
    "\n",
    "    # --- ADD MORE AUGMENTATIONS HERE ---\n",
    "    transforms.RandomRotation(15),           # Rotate images by up to 15 degrees\n",
    "    transforms.ColorJitter(brightness=0.1, contrast=0.1, saturation=0.1, hue=0.1), # Randomly change brightness, contrast, etc.\n",
    "    transforms.RandomPerspective(distortion_scale=0.2, p=0.5), # Add perspective distortion (with 50% probability)\n",
    "    transforms.RandomResizedCrop(224, scale=(0.8, 1.0)), # Randomly crop and resize to introduce scale variations\n",
    "\n",
    "    \n",
    "    transforms.RandomHorizontalFlip(),          # Data augmentation\n",
    "    transforms.ToTensor(),                      # Convert PIL image to PyTorch Tensor\n",
    "    transforms.Normalize(mean, std)             # Normalize pixel values\n",
    "])\n"
   ]
  },
  {
   "cell_type": "code",
   "execution_count": 10,
   "id": "a2b89994-ac53-49e5-aa64-3bcfcc433722",
   "metadata": {},
   "outputs": [],
   "source": [
    "# For the test set, no random augmentations\n",
    "test_transform = transforms.Compose([\n",
    "    transforms.Grayscale(num_output_channels=3),\n",
    "    transforms.Resize((224, 224)),\n",
    "    transforms.ToTensor(),\n",
    "    transforms.Normalize(mean, std)\n",
    "])"
   ]
  },
  {
   "cell_type": "code",
   "execution_count": 11,
   "id": "e0c3e3e6-2d1e-4633-aa75-289bf3b55675",
   "metadata": {},
   "outputs": [
    {
     "name": "stdout",
     "output_type": "stream",
     "text": [
      "Loading datasets...\n",
      "Found 28821 training images.\n",
      "Found 7066 testing images.\n",
      "Detected classes: ['angry', 'disgust', 'fear', 'happy', 'neutral', 'sad', 'surprise']\n",
      "Calculating class weights...\n",
      "Class counts: [3993  436 4103 7164 4982 4938 3205]\n",
      "Class weights (normalized): [0.06875312 0.6296587  0.06690986 0.03832094 0.05510461 0.05559562\n",
      " 0.08565716]\n",
      "--- Class Weights Calculated ---\n"
     ]
    }
   ],
   "source": [
    "# --- 2. Datasets and DataLoaders ---\n",
    "\n",
    "print(\"Loading datasets...\")\n",
    "train_dataset = datasets.ImageFolder(train_dir, transform=transform)\n",
    "test_dataset = datasets.ImageFolder(test_dir, transform=test_transform) # Use test_transform here\n",
    "\n",
    "train_loader = DataLoader(train_dataset, batch_size=BATCH_SIZE, shuffle=True, num_workers=os.cpu_count() // 2 or 1) # Use half CPU cores\n",
    "test_loader = DataLoader(test_dataset, batch_size=BATCH_SIZE, shuffle=False, num_workers=os.cpu_count() // 2 or 1)\n",
    "\n",
    "print(f\"Found {len(train_dataset)} training images.\")\n",
    "print(f\"Found {len(test_dataset)} testing images.\")\n",
    "print(f\"Detected classes: {train_dataset.classes}\")\n",
    "# Ensure that the dataset classes match the defined `classes` list order if you intend to map them\n",
    "# directly for classification_report. ImageFolder sorts them alphabetically.\n",
    "# It's good practice to ensure `classes` list matches `train_dataset.classes` for consistent reporting.\n",
    "if classes != train_dataset.classes:\n",
    "    print(f\"WARNING: Defined classes {classes} do not match dataset classes {train_dataset.classes}.\")\n",
    "    print(\"Adjusting `classes` list to match dataset order for reporting.\")\n",
    "    classes = train_dataset.classes # Ensure target_names in report are correct\n",
    "\n",
    "\n",
    "# --- Calculate Class Weights for Imbalanced Dataset ---\n",
    "# This ensures that the loss function gives more importance to smaller classes.\n",
    "import collections # Add this import at the top of your script\n",
    "\n",
    "print(\"Calculating class weights...\")\n",
    "\n",
    "# Get counts for each class in the training dataset\n",
    "# train_dataset.targets contains the numerical labels for each image\n",
    "class_counts = np.bincount(train_dataset.targets)\n",
    "\n",
    "# Inverse of class frequencies\n",
    "class_weights = 1.0 / class_counts\n",
    "\n",
    "# Normalize weights so they sum to 1 (optional, but good practice)\n",
    "class_weights = class_weights / class_weights.sum()\n",
    "\n",
    "# Convert to PyTorch tensor and move to device\n",
    "class_weights_tensor = torch.tensor(class_weights, dtype=torch.float).to(device)\n",
    "\n",
    "print(f\"Class counts: {class_counts}\")\n",
    "print(f\"Class weights (normalized): {class_weights_tensor.cpu().numpy()}\")\n",
    "print(\"--- Class Weights Calculated ---\")"
   ]
  },
  {
   "cell_type": "code",
   "execution_count": 12,
   "id": "37c31f19-75ce-4ee1-9ec8-7e23b5e97630",
   "metadata": {
    "scrolled": true
   },
   "outputs": [
    {
     "name": "stdout",
     "output_type": "stream",
     "text": [
      "Setting up model (Vision Transformer)...\n",
      "Unfreezing last 4 encoder blocks for fine-tuning...\n"
     ]
    }
   ],
   "source": [
    "# --- 3. Model Setup ---\n",
    "\n",
    "print(\"Setting up model (Vision Transformer)...\")\n",
    "\n",
    "# Load Vision Transformer Base model, pre-trained on ImageNet\n",
    "from torchvision.models import ViT_B_16_Weights # Ensure this import is at the top of your file\n",
    "model = models.vit_b_16(weights=ViT_B_16_Weights.DEFAULT) # DEFAULT will use the best available weights\n",
    "\n",
    "# REMOVE or COMMENT OUT this line, it's incorrect for ViT:\n",
    "# # Or, to get the most up-to-date weights (recommended for future-proofing):\n",
    "# # model = models.mobilenet_v3_large(weights=MobileNet_V3_Large_Weights.DEFAULT)\n",
    "\n",
    "\n",
    "# Freeze all parameters initially\n",
    "for param in model.parameters():\n",
    "    param.requires_grad = False\n",
    "\n",
    "# 1. Replace the classifier head for our specific task and unfreeze it\n",
    "# For ViT, the classifier head is typically at `model.heads.head`\n",
    "# Its input features are `model.heads.head.in_features`\n",
    "in_features = model.heads.head.in_features\n",
    "model.heads.head = nn.Linear(in_features, num_classes)\n",
    "# The new linear layer is automatically trainable, so no explicit for-loop to unfreeze it is needed for just this new layer.\n",
    "\n",
    "\n",
    "# 2. Fine-tune: Unfreeze the last few blocks of the Transformer encoder\n",
    "# A ViT model's main learning components are its encoder layers.\n",
    "# `model.encoder.layers` contains the actual Transformer blocks.\n",
    "# ViT-B/16 has 12 such blocks (indexed 0 to 11).\n",
    "num_encoder_blocks = len(model.encoder.layers) # This will correctly be 12 for ViT-B/16\n",
    "blocks_to_unfreeze_vit = 4 # Experiment with 2, 3, 4, or more (up to 12)\n",
    "\n",
    "print(f\"Unfreezing last {blocks_to_unfreeze_vit} encoder blocks for fine-tuning...\")\n",
    "for i, block in enumerate(model.encoder.layers): # Iterate through encoder layers, not 'features'\n",
    "    if i >= (num_encoder_blocks - blocks_to_unfreeze_vit):\n",
    "        for param in block.parameters():\n",
    "            param.requires_grad = True\n",
    "\n",
    "# Optionally, unfreeze the patch embedding and positional embedding layers\n",
    "# This can allow for more adaptation of the initial feature extraction.\n",
    "# However, for a first ViT run, you might want to keep these frozen to start.\n",
    "# If you unfreeze them, you might need to drop the LR even further.\n",
    "# for param in model.patch_embed.parameters():\n",
    "#     param.requires_grad = True\n",
    "# for param in model.pos_embedding.parameters():\n",
    "#     param.requires_grad = True\n",
    "\n",
    "\n",
    "model = model.to(device)\n",
    "\n",
    "# Loss and optimizer\n",
    "# Keep the weighted loss from the previous step!\n",
    "criterion = nn.CrossEntropyLoss(weight=class_weights_tensor) # Ensure class_weights_tensor is defined\n",
    "\n",
    "# IMPORTANT: When fine-tuning, use a significantly lower learning rate for the entire model\n",
    "# as you are now training more layers.\n",
    "LEARNING_RATE = 5e-6 # Reduced learning rate. Experiment with 1e-6, 5e-7 if needed for ViT.\n",
    "\n",
    "optimizer = optim.Adam(model.parameters(), lr=LEARNING_RATE)\n",
    "\n",
    "# Learning rate scheduler remains the same\n",
    "scheduler = optim.lr_scheduler.ReduceLROnPlateau(optimizer, mode='min', factor=0.1, patience=5)\n",
    "\n",
    "# Also, adjust NUM_EPOCHS if you haven't already.\n",
    "# NUM_EPOCHS = 30 # For ViT, you might need 30-50+ epochs."
   ]
  },
  {
   "cell_type": "code",
   "execution_count": null,
   "id": "97390240-7fc0-49a2-818e-9dc2b7166238",
   "metadata": {},
   "outputs": [
    {
     "name": "stdout",
     "output_type": "stream",
     "text": [
      "Starting training...\n"
     ]
    },
    {
     "name": "stderr",
     "output_type": "stream",
     "text": [
      "                                                                                                                                                                                                                                 "
     ]
    },
    {
     "name": "stdout",
     "output_type": "stream",
     "text": [
      "\n",
      "Epoch 1/30\n",
      "  Train: Loss: 1.5401, Acc: 0.4246\n",
      "  Val  : Loss: 1.3091, Acc: 0.5069, Prec: 0.5191, Rec: 0.5069, F1: 0.5034\n",
      "Best model saved with accuracy: 0.5069\n"
     ]
    },
    {
     "name": "stderr",
     "output_type": "stream",
     "text": [
      "                                                                                                                                                                                                                                 "
     ]
    },
    {
     "name": "stdout",
     "output_type": "stream",
     "text": [
      "\n",
      "Epoch 2/30\n",
      "  Train: Loss: 1.2630, Acc: 0.5329\n",
      "  Val  : Loss: 1.1679, Acc: 0.5667, Prec: 0.5794, Rec: 0.5667, F1: 0.5659\n",
      "Best model saved with accuracy: 0.5667\n"
     ]
    },
    {
     "name": "stderr",
     "output_type": "stream",
     "text": [
      "                                                                                                                                                                                                                                 "
     ]
    },
    {
     "name": "stdout",
     "output_type": "stream",
     "text": [
      "\n",
      "Epoch 3/30\n",
      "  Train: Loss: 1.1615, Acc: 0.5667\n",
      "  Val  : Loss: 1.1040, Acc: 0.5927, Prec: 0.5941, Rec: 0.5927, F1: 0.5859\n",
      "Best model saved with accuracy: 0.5927\n"
     ]
    },
    {
     "name": "stderr",
     "output_type": "stream",
     "text": [
      "                                                                                                                                                                                                                                 "
     ]
    },
    {
     "name": "stdout",
     "output_type": "stream",
     "text": [
      "\n",
      "Epoch 4/30\n",
      "  Train: Loss: 1.0975, Acc: 0.5896\n",
      "  Val  : Loss: 1.0774, Acc: 0.6020, Prec: 0.6119, Rec: 0.6020, F1: 0.5996\n",
      "Best model saved with accuracy: 0.6020\n"
     ]
    },
    {
     "name": "stderr",
     "output_type": "stream",
     "text": [
      "                                                                                                                                                                                                                                 "
     ]
    },
    {
     "name": "stdout",
     "output_type": "stream",
     "text": [
      "\n",
      "Epoch 5/30\n",
      "  Train: Loss: 1.0390, Acc: 0.6100\n",
      "  Val  : Loss: 1.0539, Acc: 0.6056, Prec: 0.6058, Rec: 0.6056, F1: 0.5974\n",
      "Best model saved with accuracy: 0.6056\n"
     ]
    },
    {
     "name": "stderr",
     "output_type": "stream",
     "text": [
      "                                                                                                                                                                                                                                 "
     ]
    },
    {
     "name": "stdout",
     "output_type": "stream",
     "text": [
      "\n",
      "Epoch 6/30\n",
      "  Train: Loss: 0.9898, Acc: 0.6235\n",
      "  Val  : Loss: 1.0255, Acc: 0.6172, Prec: 0.6160, Rec: 0.6172, F1: 0.6081\n",
      "Best model saved with accuracy: 0.6172\n"
     ]
    },
    {
     "name": "stderr",
     "output_type": "stream",
     "text": [
      "                                                                                                                                                                                                                                 "
     ]
    },
    {
     "name": "stdout",
     "output_type": "stream",
     "text": [
      "\n",
      "Epoch 7/30\n",
      "  Train: Loss: 0.9554, Acc: 0.6369\n",
      "  Val  : Loss: 1.0465, Acc: 0.6115, Prec: 0.6228, Rec: 0.6115, F1: 0.6072\n"
     ]
    },
    {
     "name": "stderr",
     "output_type": "stream",
     "text": [
      "                                                                                                                                                                                                                                 "
     ]
    },
    {
     "name": "stdout",
     "output_type": "stream",
     "text": [
      "\n",
      "Epoch 8/30\n",
      "  Train: Loss: 0.9077, Acc: 0.6498\n",
      "  Val  : Loss: 1.0222, Acc: 0.6254, Prec: 0.6284, Rec: 0.6254, F1: 0.6154\n",
      "Best model saved with accuracy: 0.6254\n"
     ]
    },
    {
     "name": "stderr",
     "output_type": "stream",
     "text": [
      "                                                                                                                                                                                                                                 "
     ]
    },
    {
     "name": "stdout",
     "output_type": "stream",
     "text": [
      "\n",
      "Epoch 9/30\n",
      "  Train: Loss: 0.8803, Acc: 0.6593\n",
      "  Val  : Loss: 0.9913, Acc: 0.6323, Prec: 0.6352, Rec: 0.6323, F1: 0.6285\n",
      "Best model saved with accuracy: 0.6323\n"
     ]
    },
    {
     "name": "stderr",
     "output_type": "stream",
     "text": [
      "                                                                                                                                                                                                                                 "
     ]
    },
    {
     "name": "stdout",
     "output_type": "stream",
     "text": [
      "\n",
      "Epoch 10/30\n",
      "  Train: Loss: 0.8509, Acc: 0.6717\n",
      "  Val  : Loss: 0.9837, Acc: 0.6353, Prec: 0.6354, Rec: 0.6353, F1: 0.6316\n",
      "Best model saved with accuracy: 0.6353\n"
     ]
    },
    {
     "name": "stderr",
     "output_type": "stream",
     "text": [
      "                                                                                                                                                                                                                                 "
     ]
    },
    {
     "name": "stdout",
     "output_type": "stream",
     "text": [
      "\n",
      "Epoch 11/30\n",
      "  Train: Loss: 0.8125, Acc: 0.6835\n",
      "  Val  : Loss: 0.9796, Acc: 0.6363, Prec: 0.6402, Rec: 0.6363, F1: 0.6272\n",
      "Best model saved with accuracy: 0.6363\n"
     ]
    },
    {
     "name": "stderr",
     "output_type": "stream",
     "text": [
      "                                                                                                                                                                                                                                 "
     ]
    },
    {
     "name": "stdout",
     "output_type": "stream",
     "text": [
      "\n",
      "Epoch 12/30\n",
      "  Train: Loss: 0.7918, Acc: 0.6908\n",
      "  Val  : Loss: 0.9755, Acc: 0.6391, Prec: 0.6429, Rec: 0.6391, F1: 0.6395\n",
      "Best model saved with accuracy: 0.6391\n"
     ]
    },
    {
     "name": "stderr",
     "output_type": "stream",
     "text": [
      "                                                                                                                                                                                                                                 "
     ]
    },
    {
     "name": "stdout",
     "output_type": "stream",
     "text": [
      "\n",
      "Epoch 13/30\n",
      "  Train: Loss: 0.7645, Acc: 0.6987\n",
      "  Val  : Loss: 0.9779, Acc: 0.6325, Prec: 0.6407, Rec: 0.6325, F1: 0.6349\n"
     ]
    },
    {
     "name": "stderr",
     "output_type": "stream",
     "text": [
      "                                                                                                                                                                                                                                 "
     ]
    },
    {
     "name": "stdout",
     "output_type": "stream",
     "text": [
      "\n",
      "Epoch 14/30\n",
      "  Train: Loss: 0.7382, Acc: 0.7102\n",
      "  Val  : Loss: 0.9606, Acc: 0.6441, Prec: 0.6439, Rec: 0.6441, F1: 0.6424\n",
      "Best model saved with accuracy: 0.6441\n"
     ]
    },
    {
     "name": "stderr",
     "output_type": "stream",
     "text": [
      "                                                                                                                                                                                                                                 "
     ]
    },
    {
     "name": "stdout",
     "output_type": "stream",
     "text": [
      "\n",
      "Epoch 15/30\n",
      "  Train: Loss: 0.7195, Acc: 0.7173\n",
      "  Val  : Loss: 0.9691, Acc: 0.6434, Prec: 0.6479, Rec: 0.6434, F1: 0.6391\n"
     ]
    },
    {
     "name": "stderr",
     "output_type": "stream",
     "text": [
      "                                                                                                                                                                                                                                 "
     ]
    },
    {
     "name": "stdout",
     "output_type": "stream",
     "text": [
      "\n",
      "Epoch 16/30\n",
      "  Train: Loss: 0.6951, Acc: 0.7249\n",
      "  Val  : Loss: 0.9708, Acc: 0.6393, Prec: 0.6429, Rec: 0.6393, F1: 0.6372\n"
     ]
    },
    {
     "name": "stderr",
     "output_type": "stream",
     "text": [
      "                                                                                                                                                                                                                                 "
     ]
    },
    {
     "name": "stdout",
     "output_type": "stream",
     "text": [
      "\n",
      "Epoch 17/30\n",
      "  Train: Loss: 0.6698, Acc: 0.7365\n",
      "  Val  : Loss: 0.9707, Acc: 0.6476, Prec: 0.6523, Rec: 0.6476, F1: 0.6474\n",
      "Best model saved with accuracy: 0.6476\n"
     ]
    },
    {
     "name": "stderr",
     "output_type": "stream",
     "text": [
      "                                                                                                                                                                                                                                 "
     ]
    },
    {
     "name": "stdout",
     "output_type": "stream",
     "text": [
      "\n",
      "Epoch 18/30\n",
      "  Train: Loss: 0.6388, Acc: 0.7488\n",
      "  Val  : Loss: 0.9782, Acc: 0.6439, Prec: 0.6438, Rec: 0.6439, F1: 0.6390\n"
     ]
    },
    {
     "name": "stderr",
     "output_type": "stream",
     "text": [
      "                                                                                                                                                                                                                                 "
     ]
    },
    {
     "name": "stdout",
     "output_type": "stream",
     "text": [
      "\n",
      "Epoch 19/30\n",
      "  Train: Loss: 0.6180, Acc: 0.7555\n",
      "  Val  : Loss: 0.9758, Acc: 0.6479, Prec: 0.6546, Rec: 0.6479, F1: 0.6486\n",
      "Best model saved with accuracy: 0.6479\n"
     ]
    },
    {
     "name": "stderr",
     "output_type": "stream",
     "text": [
      "                                                                                                                                                                                                                                 "
     ]
    },
    {
     "name": "stdout",
     "output_type": "stream",
     "text": [
      "\n",
      "Epoch 20/30\n",
      "  Train: Loss: 0.5970, Acc: 0.7625\n",
      "  Val  : Loss: 0.9907, Acc: 0.6470, Prec: 0.6533, Rec: 0.6470, F1: 0.6409\n"
     ]
    },
    {
     "name": "stderr",
     "output_type": "stream",
     "text": [
      "                                                                                                                                                                                                                                 "
     ]
    },
    {
     "name": "stdout",
     "output_type": "stream",
     "text": [
      "\n",
      "Epoch 21/30\n",
      "  Train: Loss: 0.5402, Acc: 0.7895\n",
      "  Val  : Loss: 0.9724, Acc: 0.6533, Prec: 0.6471, Rec: 0.6533, F1: 0.6478\n",
      "Best model saved with accuracy: 0.6533\n"
     ]
    },
    {
     "name": "stderr",
     "output_type": "stream",
     "text": [
      "                                                                                                                                                                                                                                 "
     ]
    },
    {
     "name": "stdout",
     "output_type": "stream",
     "text": [
      "\n",
      "Epoch 22/30\n",
      "  Train: Loss: 0.5303, Acc: 0.7932\n",
      "  Val  : Loss: 0.9717, Acc: 0.6527, Prec: 0.6507, Rec: 0.6527, F1: 0.6495\n"
     ]
    },
    {
     "name": "stderr",
     "output_type": "stream",
     "text": [
      "                                                                                                                                                                                                                                 "
     ]
    },
    {
     "name": "stdout",
     "output_type": "stream",
     "text": [
      "\n",
      "Epoch 23/30\n",
      "  Train: Loss: 0.5315, Acc: 0.7940\n",
      "  Val  : Loss: 0.9762, Acc: 0.6510, Prec: 0.6525, Rec: 0.6510, F1: 0.6501\n"
     ]
    },
    {
     "name": "stderr",
     "output_type": "stream",
     "text": [
      "                                                                                                                                                                                                                                 "
     ]
    },
    {
     "name": "stdout",
     "output_type": "stream",
     "text": [
      "\n",
      "Epoch 24/30\n",
      "  Train: Loss: 0.5218, Acc: 0.7966\n",
      "  Val  : Loss: 0.9746, Acc: 0.6555, Prec: 0.6516, Rec: 0.6555, F1: 0.6512\n",
      "Best model saved with accuracy: 0.6555\n"
     ]
    },
    {
     "name": "stderr",
     "output_type": "stream",
     "text": [
      "                                                                                                                                                                                                                                 "
     ]
    },
    {
     "name": "stdout",
     "output_type": "stream",
     "text": [
      "\n",
      "Epoch 25/30\n",
      "  Train: Loss: 0.5220, Acc: 0.7990\n",
      "  Val  : Loss: 0.9794, Acc: 0.6517, Prec: 0.6492, Rec: 0.6517, F1: 0.6487\n"
     ]
    },
    {
     "name": "stderr",
     "output_type": "stream",
     "text": [
      "                                                                                                                                                                                                                                 "
     ]
    },
    {
     "name": "stdout",
     "output_type": "stream",
     "text": [
      "\n",
      "Epoch 26/30\n",
      "  Train: Loss: 0.5138, Acc: 0.7989\n",
      "  Val  : Loss: 0.9797, Acc: 0.6523, Prec: 0.6498, Rec: 0.6523, F1: 0.6495\n"
     ]
    },
    {
     "name": "stderr",
     "output_type": "stream",
     "text": [
      "                                                                                                                                                                                                                                 "
     ]
    },
    {
     "name": "stdout",
     "output_type": "stream",
     "text": [
      "\n",
      "Epoch 27/30\n",
      "  Train: Loss: 0.5109, Acc: 0.8000\n",
      "  Val  : Loss: 0.9794, Acc: 0.6540, Prec: 0.6509, Rec: 0.6540, F1: 0.6511\n"
     ]
    },
    {
     "name": "stderr",
     "output_type": "stream",
     "text": [
      "                                                                                                                                                                                                                                 "
     ]
    },
    {
     "name": "stdout",
     "output_type": "stream",
     "text": [
      "\n",
      "Epoch 28/30\n",
      "  Train: Loss: 0.5106, Acc: 0.8022\n",
      "  Val  : Loss: 0.9793, Acc: 0.6531, Prec: 0.6501, Rec: 0.6531, F1: 0.6502\n"
     ]
    },
    {
     "name": "stderr",
     "output_type": "stream",
     "text": [
      "                                                                                                                                                                                                                                 "
     ]
    },
    {
     "name": "stdout",
     "output_type": "stream",
     "text": [
      "\n",
      "Epoch 29/30\n",
      "  Train: Loss: 0.5079, Acc: 0.8034\n",
      "  Val  : Loss: 0.9796, Acc: 0.6523, Prec: 0.6498, Rec: 0.6523, F1: 0.6497\n"
     ]
    },
    {
     "name": "stderr",
     "output_type": "stream",
     "text": [
      "                                                                                                                                                                                                                                 "
     ]
    },
    {
     "name": "stdout",
     "output_type": "stream",
     "text": [
      "\n",
      "Epoch 30/30\n",
      "  Train: Loss: 0.5095, Acc: 0.8017\n",
      "  Val  : Loss: 0.9792, Acc: 0.6530, Prec: 0.6499, Rec: 0.6530, F1: 0.6500\n",
      "\n",
      "Training complete.\n",
      "Total training time: 14490.84 seconds\n",
      "\n",
      "--- Final Evaluation on Test Set ---\n",
      "              precision    recall  f1-score   support\n",
      "\n",
      "       angry     0.5780    0.5594    0.5686       960\n",
      "     disgust     0.6220    0.7117    0.6639       111\n",
      "        fear     0.5245    0.4204    0.4667      1018\n",
      "       happy     0.8522    0.8433    0.8477      1825\n",
      "     neutral     0.5899    0.6530    0.6198      1216\n",
      "         sad     0.5087    0.5127    0.5107      1139\n",
      "    surprise     0.7304    0.8193    0.7723       797\n",
      "\n",
      "    accuracy                         0.6530      7066\n",
      "   macro avg     0.6294    0.6457    0.6357      7066\n",
      "weighted avg     0.6499    0.6530    0.6500      7066\n",
      "\n"
     ]
    },
    {
     "name": "stderr",
     "output_type": "stream",
     "text": []
    }
   ],
   "source": [
    "# --- 4. Training Function ---\n",
    "\n",
    "def train_model(model, criterion, optimizer, train_loader, test_loader, num_epochs, best_acc, classes, model_save_dir):\n",
    "    start_time = time.time()\n",
    "\n",
    "    for epoch in range(num_epochs):\n",
    "        # --- Training Phase ---\n",
    "        model.train()\n",
    "        running_loss = 0.0\n",
    "        correct_train_predictions = 0\n",
    "        total_train_samples = 0\n",
    "        \n",
    "        train_bar = tqdm(train_loader, desc=f\"Epoch {epoch+1}/{num_epochs} [Train]\", leave=False)\n",
    "        for images, labels in train_bar:\n",
    "            images, labels = images.to(device), labels.to(device)\n",
    "\n",
    "            optimizer.zero_grad()\n",
    "            outputs = model(images)\n",
    "            loss = criterion(outputs, labels)\n",
    "            loss.backward()\n",
    "            optimizer.step()\n",
    "\n",
    "            running_loss += loss.item() * images.size(0)\n",
    "            _, predicted = torch.max(outputs, 1)\n",
    "            total_train_samples += labels.size(0)\n",
    "            correct_train_predictions += (predicted == labels).sum().item()\n",
    "\n",
    "            # Update progress bar with current batch metrics\n",
    "            train_bar.set_postfix(loss=f\"{loss.item():.4f}\", acc=f\"{correct_train_predictions/total_train_samples:.4f}\")\n",
    "\n",
    "        # Aggregate epoch metrics for training\n",
    "        epoch_train_loss = running_loss / len(train_loader.dataset)\n",
    "        epoch_train_acc = correct_train_predictions / total_train_samples\n",
    "\n",
    "        # --- Validation Phase ---\n",
    "        model.eval()\n",
    "        y_true, y_pred = [], [] # Reset for each validation\n",
    "        validation_loss = 0.0\n",
    "        \n",
    "        with torch.no_grad():\n",
    "            val_bar = tqdm(test_loader, desc=f\"Epoch {epoch+1}/{num_epochs} [Val]\", leave=False)\n",
    "            for images, labels in val_bar:\n",
    "                images, labels = images.to(device), labels.to(device)\n",
    "                outputs = model(images)\n",
    "                loss = criterion(outputs, labels)\n",
    "\n",
    "                validation_loss += loss.item() * images.size(0)\n",
    "                _, predicted = torch.max(outputs, 1)\n",
    "                y_true.extend(labels.cpu().numpy())\n",
    "                y_pred.extend(predicted.cpu().numpy())\n",
    "        \n",
    "        # Aggregate epoch metrics for validation\n",
    "        val_epoch_loss = validation_loss / len(test_loader.dataset)\n",
    "        val_acc = accuracy_score(y_true, y_pred) # Use sklearn's accuracy for consistency\n",
    "        \n",
    "        # Calculate precision, recall, f1-score for validation\n",
    "        # Use 'weighted' average to account for class imbalance, if any\n",
    "        val_precision = precision_score(y_true, y_pred, average='weighted', zero_division=0)\n",
    "        val_recall = recall_score(y_true, y_pred, average='weighted', zero_division=0)\n",
    "        val_f1 = f1_score(y_true, y_pred, average='weighted', zero_division=0)\n",
    "\n",
    "        scheduler.step(val_epoch_loss) # Tell the scheduler validation loss for this epoch\n",
    "\n",
    "        # --- Print Epoch Summary (Keras-like format) ---\n",
    "        print(f\"\\nEpoch {epoch+1}/{num_epochs}\")\n",
    "        # Print Training Metrics\n",
    "        print(f\"  Train: Loss: {epoch_train_loss:.4f}, Acc: {epoch_train_acc:.4f}\")\n",
    "        # Print Validation Metrics\n",
    "        print(f\"  Val  : Loss: {val_epoch_loss:.4f}, Acc: {val_acc:.4f}, \"\n",
    "              f\"Prec: {val_precision:.4f}, Rec: {val_recall:.4f}, F1: {val_f1:.4f}\")\n",
    "\n",
    "\n",
    "        # Save best model\n",
    "        if val_acc > best_acc:\n",
    "            best_acc = val_acc\n",
    "            model_path = os.path.join(model_save_dir, \"best_emotion_vit.pth\")\n",
    "            torch.save(model.state_dict(), model_path)\n",
    "            print(f\"Best model saved with accuracy: {best_acc:.4f}\")\n",
    "\n",
    "    # Ensure these lines are correctly unindented to be outside the epoch loop\n",
    "    end_time = time.time()\n",
    "    print(\"\\nTraining complete.\")\n",
    "    print(f\"Total training time: {(end_time - start_time):.2f} seconds\")\n",
    "\n",
    "    # Final detailed classification report on the test set\n",
    "    # Note: y_true and y_pred here will reflect the last epoch's validation results.\n",
    "    print(\"\\n--- Final Evaluation on Test Set ---\")\n",
    "    print(classification_report(y_true, y_pred, target_names=classes, digits=4))\n",
    "    \n",
    "    return model\n",
    "\n",
    "# Start training\n",
    "print(\"Starting training...\")\n",
    "trained_model = train_model(model, criterion, optimizer, train_loader, test_loader, NUM_EPOCHS, best_acc=0.0, classes=classes, model_save_dir=model_save_dir)"
   ]
  },
  {
   "cell_type": "code",
   "execution_count": 48,
   "id": "dde80732-d227-4c77-8f48-7217fcb26312",
   "metadata": {
    "scrolled": true
   },
   "outputs": [
    {
     "name": "stdout",
     "output_type": "stream",
     "text": [
      "\n",
      "--- Testing Single Image Prediction ---\n",
      "\n",
      "Loading best model weights from: models\\best_mobilenetv3_emotion.pth\n",
      "Original image from: images/train/sad/42.jpg\n",
      "Model prediction: sad (Confidence: 51.76%)\n"
     ]
    },
    {
     "data": {
      "image/png": "[encoded data removed]",
      "text/plain": [
       "<Figure size 640x480 with 1 Axes>"
      ]
     },
     "metadata": {},
     "output_type": "display_data"
    },
    {
     "name": "stdout",
     "output_type": "stream",
     "text": [
      "\n",
      "Loading best model weights from: models\\best_mobilenetv3_emotion.pth\n",
      "Original image from: images/train/fear/2.jpg\n",
      "Model prediction: sad (Confidence: 73.98%)\n"
     ]
    },
    {
     "data": {
      "image/png": "[encoded data removed]",
      "text/plain": [
       "<Figure size 640x480 with 1 Axes>"
      ]
     },
     "metadata": {},
     "output_type": "display_data"
    },
    {
     "name": "stdout",
     "output_type": "stream",
     "text": [
      "\n",
      "Loading best model weights from: models\\best_mobilenetv3_emotion.pth\n",
      "Original image from: images/train/disgust/299.jpg\n",
      "Model prediction: angry (Confidence: 52.11%)\n"
     ]
    },
    {
     "data": {
      "image/png": "[encoded data removed]",
      "text/plain": [
       "<Figure size 640x480 with 1 Axes>"
      ]
     },
     "metadata": {},
     "output_type": "display_data"
    },
    {
     "name": "stdout",
     "output_type": "stream",
     "text": [
      "\n",
      "Loading best model weights from: models\\best_mobilenetv3_emotion.pth\n",
      "Original image from: images/train/happy/7.jpg\n",
      "Model prediction: happy (Confidence: 99.23%)\n"
     ]
    },
    {
     "data": {
      "image/png": "[encoded data removed]",
      "text/plain": [
       "<Figure size 640x480 with 1 Axes>"
      ]
     },
     "metadata": {},
     "output_type": "display_data"
    },
    {
     "name": "stdout",
     "output_type": "stream",
     "text": [
      "\n",
      "Loading best model weights from: models\\best_mobilenetv3_emotion.pth\n",
      "Original image from: images/train/surprise/15.jpg\n",
      "Model prediction: surprise (Confidence: 84.99%)\n"
     ]
    },
    {
     "data": {
      "image/png": "[encoded data removed]",
      "text/plain": [
       "<Figure size 640x480 with 1 Axes>"
      ]
     },
     "metadata": {},
     "output_type": "display_data"
    },
    {
     "name": "stdout",
     "output_type": "stream",
     "text": [
      "\n",
      "Loading best model weights from: models\\best_mobilenetv3_emotion.pth\n",
      "Original image from: images/test/neutral/8919.jpg\n",
      "Model prediction: neutral (Confidence: 95.07%)\n"
     ]
    },
    {
     "data": {
      "image/png": "[encoded data removed]",
      "text/plain": [
       "<Figure size 640x480 with 1 Axes>"
      ]
     },
     "metadata": {},
     "output_type": "display_data"
    },
    {
     "name": "stdout",
     "output_type": "stream",
     "text": [
      "\n",
      "Loading best model weights from: models\\best_mobilenetv3_emotion.pth\n",
      "Original image from: images/test/angry/5732.jpg\n",
      "Model prediction: angry (Confidence: 97.40%)\n"
     ]
    },
    {
     "data": {
      "image/png": "[encoded data removed]",
      "text/plain": [
       "<Figure size 640x480 with 1 Axes>"
      ]
     },
     "metadata": {},
     "output_type": "display_data"
    }
   ],
   "source": [
    "# --- 6. Load Best Model and Predict Single Image ---\n",
    "\n",
    "def predict_single_image(model, image_path, classes, transform, device, model_weights_path=None):\n",
    "    \"\"\"\n",
    "    Loads a model, predicts the class of a single image, and displays it.\n",
    "    \"\"\"\n",
    "    # Load the model state dictionary if provided\n",
    "    if model_weights_path and os.path.exists(model_weights_path):\n",
    "        print(f\"\\nLoading best model weights from: {model_weights_path}\")\n",
    "        # Create a fresh model instance to load weights into\n",
    "        # Need to reconstruct the model architecture exactly as it was saved\n",
    "        # This part assumes you want to load the best model for inference after training\n",
    "        # If 'model' is already the trained_model, you don't need to load again.\n",
    "        \n",
    "        # To be safe and load the *best* model saved during training:\n",
    "        if isinstance(model, nn.Module): # Check if it's already a PyTorch model\n",
    "            # Re-initialize the model if needed, or assume it's the correct structure\n",
    "            # For this context, we'll assume `model` passed to this function is the one that was saved\n",
    "            pass\n",
    "        else:\n",
    "            # You would reconstruct the model here, e.g.:\n",
    "            # model = models.mobilenet_v3_large(weights=None) # Start with uninitialized weights\n",
    "            # in_features_reconstruct = model.classifier[3].in_features\n",
    "            # model.classifier[3] = nn.Linear(in_features_reconstruct, len(classes))\n",
    "            # model = model.to(device)\n",
    "            pass # Keep using the passed 'model' for simplicity now.\n",
    "            \n",
    "        model.load_state_dict(torch.load(model_weights_path, map_location=device, weights_only=True))\n",
    "    \n",
    "    model.eval() # Set model to evaluation mode\n",
    "    \n",
    "    try:\n",
    "        # Load the image\n",
    "        img = Image.open(image_path).convert('RGB')\n",
    "        print(f\"Original image from: {image_path}\")\n",
    "\n",
    "        # Apply the same transformations as the test set\n",
    "        img_tensor = transform(img).unsqueeze(0).to(device) # Add batch dimension\n",
    "\n",
    "        # Make prediction\n",
    "        with torch.no_grad():\n",
    "            output = model(img_tensor)\n",
    "            probabilities = torch.softmax(output, dim=1)\n",
    "            _, predicted_idx = torch.max(probabilities, 1)\n",
    "            \n",
    "            pred_label = classes[predicted_idx.item()]\n",
    "            confidence = probabilities[0, predicted_idx.item()].item() * 100\n",
    "\n",
    "        print(f\"Model prediction: {pred_label} (Confidence: {confidence:.2f}%)\")\n",
    "        \n",
    "        # Display the image\n",
    "        plt.imshow(img)\n",
    "        plt.title(f\"Prediction: {pred_label}\")\n",
    "        plt.axis('off')\n",
    "        plt.show()\n",
    "\n",
    "    except FileNotFoundError:\n",
    "        print(f\"Error: Image not found at {image_path}\")\n",
    "    except Exception as e:\n",
    "        print(f\"An error occurred: {e}\")\n",
    "\n",
    "# Example usage for single image prediction\n",
    "print(\"\\n--- Testing Single Image Prediction ---\")\n",
    "test_image_paths = [\n",
    "    'images/train/sad/42.jpg',\n",
    "    'images/train/fear/2.jpg',\n",
    "    'images/train/disgust/299.jpg',\n",
    "    'images/train/happy/7.jpg',\n",
    "    'images/train/surprise/15.jpg',\n",
    "    'images/test/neutral/8919.jpg',\n",
    "    'images/test/angry/5732.jpg'# Example from test set\n",
    "]\n",
    "\n",
    "for img_path in test_image_paths:\n",
    "    # Use the best model saved during training for prediction\n",
    "    predict_single_image(trained_model, img_path, classes, test_transform, device, \n",
    "                         model_weights_path=os.path.join(model_save_dir, \"best_mobilenetv3_emotion.pth\"))\n",
    "    time.sleep(1)\n"
   ]
  },
  {
   "cell_type": "code",
   "execution_count": 50,
   "id": "e6e33ab8-9e64-4047-9c19-e165675382b9",
   "metadata": {
    "scrolled": true
   },
   "outputs": [
    {
     "name": "stdout",
     "output_type": "stream",
     "text": [
      "\n",
      "--- Generating Confusion Matrix for Best Model ---\n"
     ]
    },
    {
     "name": "stderr",
     "output_type": "stream",
     "text": [
      "C:\\Users\\vanel\\AppData\\Local\\Temp\\ipykernel_16144\\4127145765.py:12: FutureWarning: You are using `torch.load` with `weights_only=False` (the current default value), which uses the default pickle module implicitly. It is possible to construct malicious pickle data which will execute arbitrary code during unpickling (See https://github.com/pytorch/pytorch/blob/main/SECURITY.md#untrusted-models for more details). In a future release, the default value for `weights_only` will be flipped to `True`. This limits the functions that could be executed during unpickling. Arbitrary objects will no longer be allowed to be loaded via this mode unless they are explicitly allowlisted by the user via `torch.serialization.add_safe_globals`. We recommend you start setting `weights_only=True` for any use case where you don't have full control of the loaded file. Please open an issue on GitHub for any issues related to this experimental feature.\n",
      "  model_best.load_state_dict(torch.load(best_model_path, map_location=device))\n"
     ]
    },
    {
     "name": "stdout",
     "output_type": "stream",
     "text": [
      "Loaded best model from: models\\best_mobilenetv3_emotion.pth\n"
     ]
    },
    {
     "name": "stderr",
     "output_type": "stream",
     "text": [
      "Collecting predictions for Confusion Matrix: 100%|█████████████████████████████████████████████████████████████████████████████████████████████████████████████████████████████████████████████| 221/221 [01:00<00:00,  3.64it/s]\n"
     ]
    },
    {
     "data": {
      "image/png": "[encoded data removed]",
      "text/plain": [
       "<Figure size 1000x800 with 2 Axes>"
      ]
     },
     "metadata": {},
     "output_type": "display_data"
    }
   ],
   "source": [
    "print(\"\\n--- Generating Confusion Matrix for Best Model ---\")\n",
    "\n",
    "# Re-initialize the model to ensure you're loading into the correct structure\n",
    "model_best = models.vit_b_16(weights=None) # Start with uninitialized weights\n",
    "in_features_best = model_best.heads.head.in_features\n",
    "model_best.heads.head = nn.Linear(in_features_best, num_classes)\n",
    "model_best = model_best.to(device)\n",
    "\n",
    "# Load the state dict of the best saved model\n",
    "best_model_path = os.path.join(model_save_dir, \"best_mobilenetv3_emotion.pth\") # Note: This file now contains ViT weights\n",
    "if os.path.exists(best_model_path):\n",
    "    model_best.load_state_dict(torch.load(best_model_path, map_location=device))\n",
    "    print(f\"Loaded best model from: {best_model_path}\")\n",
    "else:\n",
    "    print(\"Best model not found. Cannot generate confusion matrix.\")\n",
    "    # Fallback: use the last trained model if best not found or if you didn't save.\n",
    "    # model_best = trained_model\n",
    "    # print(\"Using the last trained model for confusion matrix.\")\n",
    "    \n",
    "model_best.eval() # Set to evaluation mode\n",
    "\n",
    "y_true_best = []\n",
    "y_pred_best = []\n",
    "with torch.no_grad():\n",
    "    for images, labels in tqdm(test_loader, desc=\"Collecting predictions for Confusion Matrix\"):\n",
    "        images, labels = images.to(device), labels.to(device)\n",
    "        outputs = model_best(images)\n",
    "        _, predicted = torch.max(outputs, 1)\n",
    "        y_true_best.extend(labels.cpu().numpy())\n",
    "        y_pred_best.extend(predicted.cpu().numpy())\n",
    "\n",
    "# Generate the confusion matrix\n",
    "cm = confusion_matrix(y_true_best, y_pred_best)\n",
    "\n",
    "# Plot the confusion matrix\n",
    "plt.figure(figsize=(10, 8))\n",
    "sns.heatmap(cm, annot=True, fmt='d', cmap='Blues', xticklabels=classes, yticklabels=classes)\n",
    "plt.xlabel('Predicted Label')\n",
    "plt.ylabel('True Label')\n",
    "plt.title('Confusion Matrix for Best Model')\n",
    "plt.show()"
   ]
  },
  {
   "cell_type": "code",
   "execution_count": 53,
   "id": "1111eff2-ad33-426c-9fa6-7ce9cc95911b",
   "metadata": {},
   "outputs": [
    {
     "name": "stdout",
     "output_type": "stream",
     "text": [
      "\n",
      "--- Analyzing Misclassified Images (First 5 examples) ---\n"
     ]
    },
    {
     "data": {
      "image/png": "[encoded data removed]",
      "text/plain": [
       "<Figure size 1500x1000 with 5 Axes>"
      ]
     },
     "metadata": {},
     "output_type": "display_data"
    }
   ],
   "source": [
    "print(\"\\n--- Analyzing Misclassified Images (First 5 examples) ---\")\n",
    "\n",
    "misclassified_indices = np.where(np.array(y_true_best) != np.array(y_pred_best))[0]\n",
    "np.random.shuffle(misclassified_indices) # Shuffle to get varied examples\n",
    "\n",
    "num_display = 5 # Number of misclassified images to display\n",
    "\n",
    "plt.figure(figsize=(15, 10))\n",
    "for i, idx in enumerate(misclassified_indices[:num_display]):\n",
    "    true_label = classes[y_true_best[idx]]\n",
    "    predicted_label = classes[y_pred_best[idx]]\n",
    "    image_path = test_dataset.imgs[idx][0] # Access original image path from ImageFolder\n",
    "\n",
    "    # Load and display the original image\n",
    "    img = Image.open(image_path).convert('RGB')\n",
    "\n",
    "    plt.subplot(1, num_display, i + 1)\n",
    "    plt.imshow(img)\n",
    "    plt.title(f\"True: {true_label}\\nPred: {predicted_label}\", color='red')\n",
    "    plt.axis('off')\n",
    "plt.tight_layout()\n",
    "plt.show()"
   ]
  },
  {
   "cell_type": "code",
   "execution_count": null,
   "id": "6cb011a9-41a9-4f86-9d38-88edf03f2f41",
   "metadata": {},
   "outputs": [
    {
     "name": "stdout",
     "output_type": "stream",
     "text": [
      "\n",
      "--- Exporting Model to TorchScript (via Scripting) ---\n",
      "Model successfully exported to TorchScript (scripted): models\\best_emotion_vit_scripted.pt\n"
     ]
    }
   ],
   "source": [
    "print(\"\\n--- Exporting Model to TorchScript (via Scripting) ---\")\n",
    "try:\n",
    "    # Script the entire model\n",
    "    scripted_model = torch.jit.script(model_best)\n",
    "    torchscript_path_script = os.path.join(model_save_dir, \"best_emotion_vit_scripted.pt\")\n",
    "    scripted_model.save(torchscript_path_script)\n",
    "    print(f\"Model successfully exported to TorchScript (scripted): {torchscript_path_script}\")\n",
    "except Exception as e:\n",
    "    print(f\"Error exporting model via Scripting: {e}\")\n"
   ]
  }
 ],
 "metadata": {
  "kernelspec": {
   "display_name": "Python 3 (ipykernel)",
   "language": "python",
   "name": "python3"
  },
  "language_info": {
   "codemirror_mode": {
    "name": "ipython",
    "version": 3
   },
   "file_extension": ".py",
   "mimetype": "text/x-python",
   "name": "python",
   "nbconvert_exporter": "python",
   "pygments_lexer": "ipython3",
   "version": "3.10.9"
  }
 },
 "nbformat": 4,
 "nbformat_minor": 5
}
